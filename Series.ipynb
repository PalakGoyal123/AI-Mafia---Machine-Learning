{
 "cells": [
  {
   "cell_type": "code",
   "execution_count": 1,
   "id": "826bd0ce",
   "metadata": {},
   "outputs": [],
   "source": [
    "import numpy as np\n",
    "import pandas as pd"
   ]
  },
  {
   "cell_type": "code",
   "execution_count": 6,
   "id": "222d3317",
   "metadata": {},
   "outputs": [
    {
     "data": {
      "text/plain": [
       "20"
      ]
     },
     "execution_count": 6,
     "metadata": {},
     "output_type": "execute_result"
    }
   ],
   "source": [
    "labels = ['a','b','c']\n",
    "my_list = [10,20,30]\n",
    "arr = np.array([10,20,30])\n",
    "d = {'a':10,'b':20,'c':30}\n",
    "a = pd.Series(d)\n",
    "a['a']\n",
    "a['b']"
   ]
  },
  {
   "cell_type": "markdown",
   "id": "90001238",
   "metadata": {},
   "source": [
    "###using lists"
   ]
  },
  {
   "cell_type": "code",
   "execution_count": 7,
   "id": "dc5b53a4",
   "metadata": {},
   "outputs": [
    {
     "data": {
      "text/plain": [
       "0    10\n",
       "1    20\n",
       "2    30\n",
       "dtype: int64"
      ]
     },
     "execution_count": 7,
     "metadata": {},
     "output_type": "execute_result"
    }
   ],
   "source": [
    "pd.Series(data = my_list)"
   ]
  },
  {
   "cell_type": "code",
   "execution_count": 8,
   "id": "b1d7e5e0",
   "metadata": {},
   "outputs": [
    {
     "data": {
      "text/plain": [
       "a    10\n",
       "b    20\n",
       "c    30\n",
       "dtype: int64"
      ]
     },
     "execution_count": 8,
     "metadata": {},
     "output_type": "execute_result"
    }
   ],
   "source": [
    "pd.Series(index = labels,data = my_list)"
   ]
  },
  {
   "cell_type": "markdown",
   "id": "af995686",
   "metadata": {},
   "source": [
    "using arrays"
   ]
  },
  {
   "cell_type": "code",
   "execution_count": 9,
   "id": "75667e1f",
   "metadata": {},
   "outputs": [
    {
     "data": {
      "text/plain": [
       "0    10\n",
       "1    20\n",
       "2    30\n",
       "dtype: int32"
      ]
     },
     "execution_count": 9,
     "metadata": {},
     "output_type": "execute_result"
    }
   ],
   "source": [
    "pd.Series(arr)"
   ]
  },
  {
   "cell_type": "code",
   "execution_count": 11,
   "id": "9fb96653",
   "metadata": {},
   "outputs": [
    {
     "data": {
      "text/plain": [
       "a    10\n",
       "b    20\n",
       "c    30\n",
       "dtype: int32"
      ]
     },
     "execution_count": 11,
     "metadata": {},
     "output_type": "execute_result"
    }
   ],
   "source": [
    "pd.Series(arr,labels)"
   ]
  },
  {
   "cell_type": "markdown",
   "id": "3ae68ab4",
   "metadata": {},
   "source": [
    "using dictionary"
   ]
  },
  {
   "cell_type": "code",
   "execution_count": 13,
   "id": "a2f11c1d",
   "metadata": {},
   "outputs": [
    {
     "data": {
      "text/plain": [
       "a    10\n",
       "b    20\n",
       "c    30\n",
       "dtype: int64"
      ]
     },
     "execution_count": 13,
     "metadata": {},
     "output_type": "execute_result"
    }
   ],
   "source": [
    "pd.Series(d)"
   ]
  },
  {
   "cell_type": "markdown",
   "id": "0aaef671",
   "metadata": {},
   "source": [
    "data in a series"
   ]
  },
  {
   "cell_type": "code",
   "execution_count": 15,
   "id": "b4f11a5a",
   "metadata": {},
   "outputs": [
    {
     "data": {
      "text/plain": [
       "0    a\n",
       "1    b\n",
       "2    c\n",
       "dtype: object"
      ]
     },
     "execution_count": 15,
     "metadata": {},
     "output_type": "execute_result"
    }
   ],
   "source": [
    "pd.Series(data = labels)"
   ]
  },
  {
   "cell_type": "code",
   "execution_count": 16,
   "id": "de44d678",
   "metadata": {},
   "outputs": [
    {
     "data": {
      "text/plain": [
       "0      <built-in function sum>\n",
       "1    <built-in function print>\n",
       "2      <built-in function len>\n",
       "dtype: object"
      ]
     },
     "execution_count": 16,
     "metadata": {},
     "output_type": "execute_result"
    }
   ],
   "source": [
    "pd.Series([sum,print,len])"
   ]
  },
  {
   "cell_type": "markdown",
   "id": "1fed4356",
   "metadata": {},
   "source": [
    "using an index"
   ]
  },
  {
   "cell_type": "code",
   "execution_count": 21,
   "id": "3e14ea60",
   "metadata": {},
   "outputs": [
    {
     "data": {
      "text/plain": [
       "USA        1\n",
       "GERMANY    2\n",
       "INDIA      3\n",
       "UK         4\n",
       "dtype: int64"
      ]
     },
     "execution_count": 21,
     "metadata": {},
     "output_type": "execute_result"
    }
   ],
   "source": [
    "ser1= pd.Series([1,2,3,4],index = ['USA','GERMANY','INDIA','UK'])\n",
    "ser1"
   ]
  },
  {
   "cell_type": "code",
   "execution_count": 22,
   "id": "decf68c7",
   "metadata": {},
   "outputs": [
    {
     "data": {
      "text/plain": [
       "USA        1\n",
       "GERMANY    2\n",
       "CHINA      5\n",
       "UK         4\n",
       "dtype: int64"
      ]
     },
     "execution_count": 22,
     "metadata": {},
     "output_type": "execute_result"
    }
   ],
   "source": [
    "ser2 = pd.Series([1,2,5,4],index = ['USA','GERMANY','CHINA','UK'])\n",
    "ser2"
   ]
  },
  {
   "cell_type": "code",
   "execution_count": 23,
   "id": "86900199",
   "metadata": {},
   "outputs": [
    {
     "data": {
      "text/plain": [
       "CHINA      NaN\n",
       "GERMANY    4.0\n",
       "INDIA      NaN\n",
       "UK         8.0\n",
       "USA        2.0\n",
       "dtype: float64"
      ]
     },
     "execution_count": 23,
     "metadata": {},
     "output_type": "execute_result"
    }
   ],
   "source": [
    "ser1+ser2"
   ]
  },
  {
   "cell_type": "code",
   "execution_count": null,
   "id": "61c17626",
   "metadata": {},
   "outputs": [],
   "source": []
  }
 ],
 "metadata": {
  "kernelspec": {
   "display_name": "Python 3",
   "language": "python",
   "name": "python3"
  },
  "language_info": {
   "codemirror_mode": {
    "name": "ipython",
    "version": 3
   },
   "file_extension": ".py",
   "mimetype": "text/x-python",
   "name": "python",
   "nbconvert_exporter": "python",
   "pygments_lexer": "ipython3",
   "version": "3.8.8"
  }
 },
 "nbformat": 4,
 "nbformat_minor": 5
}
